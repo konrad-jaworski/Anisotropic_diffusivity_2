{
 "cells": [
  {
   "cell_type": "code",
   "execution_count": 35,
   "id": "8388f03e",
   "metadata": {},
   "outputs": [],
   "source": [
    "import torch\n",
    "import numpy as np\n",
    "from helper_function import NormalizeData,DomainDataset\n",
    "from torch.utils.data import DataLoader\n",
    "from matplotlib import pyplot as plt\n",
    "from scipy.stats import qmc"
   ]
  },
  {
   "cell_type": "code",
   "execution_count": 36,
   "id": "155a92a0",
   "metadata": {},
   "outputs": [],
   "source": [
    "data = np.load(r'F:\\Synthetic_data_no_defect\\2025_10_24_sample_100x100x5mm_no_defect_isotropic_gaussian_heat.npz', allow_pickle=True)"
   ]
  },
  {
   "cell_type": "code",
   "execution_count": 37,
   "id": "c37c425f",
   "metadata": {},
   "outputs": [
    {
     "data": {
      "text/plain": [
       "array([['time', '28/10/2025 11:07:19'],\n",
       "       ['lamp_power', '200'],\n",
       "       ['lamp_power_units', 'W'],\n",
       "       ['T1', '4'],\n",
       "       ['T1_units', 'frames'],\n",
       "       ['T2', '30'],\n",
       "       ['T2_units', 'frames'],\n",
       "       ['T3', '300'],\n",
       "       ['T3_units', 'frames'],\n",
       "       ['fps', '30.0'],\n",
       "       ['fps_units', 'frames/s'],\n",
       "       ['height', '512'],\n",
       "       ['height_units', 'pixels'],\n",
       "       ['width', '512'],\n",
       "       ['width_units', 'pixels'],\n",
       "       ['sequence_length', '334'],\n",
       "       ['sequence_length_units', 'frames'],\n",
       "       ['working_distance', '200.0'],\n",
       "       ['working_distance_units', 'mm'],\n",
       "       ['thickness', '0.005'],\n",
       "       ['thickness_units', 'm'],\n",
       "       ['size_X', '0.1'],\n",
       "       ['size_X_units', 'm'],\n",
       "       ['size_Y', '0.1'],\n",
       "       ['size_Y_units', 'm'],\n",
       "       ['thermal_conductivity', '2.0'],\n",
       "       ['thermal_conductivity_units', 'W/(m·K)'],\n",
       "       ['density', '1600.0'],\n",
       "       ['density_units', 'kg/m^3'],\n",
       "       ['specific_heat', '700.0'],\n",
       "       ['specific_heat_units', 'J/(kg·K)'],\n",
       "       ['emissivity', '0.9'],\n",
       "       ['emissivity_units', '[-]'],\n",
       "       ['defect_type', 'no_defect'],\n",
       "       ['signal_repetitions', '1'],\n",
       "       ['method', 'simulation_pulse'],\n",
       "       ['comments', 'simulation_iso_geom'],\n",
       "       ['temperature_unit', 'C'],\n",
       "       ['effective_lamp_power', '180.0'],\n",
       "       ['effective_lamp_power_units', 'W']], dtype='<U32')"
      ]
     },
     "execution_count": 37,
     "metadata": {},
     "output_type": "execute_result"
    }
   ],
   "source": [
    "data['meta']"
   ]
  },
  {
   "cell_type": "code",
   "execution_count": 38,
   "id": "419a16cc",
   "metadata": {},
   "outputs": [],
   "source": [
    "data=data['data'][34:,:,:]+275.15 # Converting to kelvins\n",
    "data=torch.from_numpy(data).float()"
   ]
  },
  {
   "cell_type": "code",
   "execution_count": 39,
   "id": "e5ed4b93",
   "metadata": {},
   "outputs": [
    {
     "data": {
      "text/plain": [
       "[<matplotlib.lines.Line2D at 0x1de85933350>]"
      ]
     },
     "execution_count": 39,
     "metadata": {},
     "output_type": "execute_result"
    },
    {
     "data": {
      "image/png": "[encoded data removed]",
      "text/plain": [
       "<Figure size 640x480 with 1 Axes>"
      ]
     },
     "metadata": {},
     "output_type": "display_data"
    }
   ],
   "source": [
    "plt.plot(data[:,128,128])"
   ]
  },
  {
   "cell_type": "code",
   "execution_count": 40,
   "id": "8efcb9c2",
   "metadata": {},
   "outputs": [],
   "source": [
    "T_samples,Y_samples,X_samples=data.shape\n",
    "sampling_time=30.0\n",
    "height=0.1 # [m] heigh of the sample\n",
    "width=0.1 # [m] width of the sample \n",
    "thickness=0.005 # [m] thickness of sample\n",
    "\n",
    "\n",
    "# Defining the domain in physical units\n",
    "t = torch.linspace(0, T_samples/sampling_time, T_samples) # [0,T_max]\n",
    "y = torch.linspace(0, height, Y_samples) # [0, H]\n",
    "x = torch.linspace(0, width, X_samples) # [0, W]\n",
    "\n",
    "# Normalizing the domain to \n",
    "t_norm,t_scale=NormalizeData(t)\n",
    "y_norm,y_scale=NormalizeData(y)\n",
    "x_norm,x_scale=NormalizeData(x)\n",
    "\n",
    "t_grid, y_grid, x_grid = torch.meshgrid(t_norm, y_norm, x_norm, indexing='ij')\n",
    "\n",
    "data_coordis = torch.stack([t_grid.reshape(-1,1),\n",
    "                              y_grid.reshape(-1,1),\n",
    "                                x_grid.reshape(-1,1)], dim=1).squeeze(-1)\n",
    "\n",
    "y=data.flatten().unsqueeze(-1)"
   ]
  },
  {
   "cell_type": "code",
   "execution_count": 41,
   "id": "3c96926c",
   "metadata": {},
   "outputs": [
    {
     "data": {
      "text/plain": [
       "tensor(10.)"
      ]
     },
     "execution_count": 41,
     "metadata": {},
     "output_type": "execute_result"
    }
   ],
   "source": [
    "t_scale"
   ]
  },
  {
   "cell_type": "code",
   "execution_count": 42,
   "id": "229de979",
   "metadata": {},
   "outputs": [
    {
     "data": {
      "text/plain": [
       "tensor(0.1000)"
      ]
     },
     "execution_count": 42,
     "metadata": {},
     "output_type": "execute_result"
    }
   ],
   "source": [
    "y_scale"
   ]
  },
  {
   "cell_type": "code",
   "execution_count": 43,
   "id": "19e32ba0",
   "metadata": {},
   "outputs": [
    {
     "data": {
      "text/plain": [
       "tensor(0.1000)"
      ]
     },
     "execution_count": 43,
     "metadata": {},
     "output_type": "execute_result"
    }
   ],
   "source": [
    "x_scale"
   ]
  },
  {
   "cell_type": "markdown",
   "id": "96a400d4",
   "metadata": {},
   "source": [
    "<h1>All datapoints"
   ]
  },
  {
   "cell_type": "code",
   "execution_count": 6,
   "id": "88cb9e42",
   "metadata": {},
   "outputs": [
    {
     "data": {
      "text/plain": [
       "torch.Size([78643200, 3])"
      ]
     },
     "execution_count": 6,
     "metadata": {},
     "output_type": "execute_result"
    }
   ],
   "source": [
    "data_coordis.size()"
   ]
  },
  {
   "cell_type": "code",
   "execution_count": 15,
   "id": "505bfba5",
   "metadata": {},
   "outputs": [],
   "source": [
    "torch.save(data_coordis,\"X_total.pt\")"
   ]
  },
  {
   "cell_type": "code",
   "execution_count": 7,
   "id": "d9cac2d2",
   "metadata": {},
   "outputs": [
    {
     "data": {
      "text/plain": [
       "torch.Size([78643200, 1])"
      ]
     },
     "execution_count": 7,
     "metadata": {},
     "output_type": "execute_result"
    }
   ],
   "source": [
    "y.size()"
   ]
  },
  {
   "cell_type": "code",
   "execution_count": 16,
   "id": "76fdc540",
   "metadata": {},
   "outputs": [],
   "source": [
    "torch.save(y,\"Y_total.pt\")"
   ]
  },
  {
   "cell_type": "markdown",
   "id": "6e7affa7",
   "metadata": {},
   "source": [
    "<h1> Collocation points"
   ]
  },
  {
   "cell_type": "code",
   "execution_count": 10,
   "id": "2ebcc2d2",
   "metadata": {},
   "outputs": [],
   "source": [
    "sampler = qmc.LatinHypercube(d=3)\n",
    "X_phys_lhs = sampler.random(n=100000)\n",
    "X_phys_lhs = torch.tensor(X_phys_lhs, dtype=torch.float32)"
   ]
  },
  {
   "cell_type": "code",
   "execution_count": 11,
   "id": "a711903f",
   "metadata": {},
   "outputs": [],
   "source": [
    "torch.save(X_phys_lhs, 'X_phys_lhs.pt')"
   ]
  },
  {
   "cell_type": "code",
   "execution_count": 13,
   "id": "198b57f1",
   "metadata": {},
   "outputs": [],
   "source": [
    "engine = torch.quasirandom.SobolEngine(dimension=3)\n",
    "X_phys_sobol = engine.draw(100000)"
   ]
  },
  {
   "cell_type": "code",
   "execution_count": 45,
   "id": "abee7290",
   "metadata": {},
   "outputs": [
    {
     "data": {
      "text/plain": [
       "torch.Size([100000, 3])"
      ]
     },
     "execution_count": 45,
     "metadata": {},
     "output_type": "execute_result"
    }
   ],
   "source": [
    "X_phys_sobol.size()"
   ]
  },
  {
   "cell_type": "code",
   "execution_count": 14,
   "id": "f765ee97",
   "metadata": {},
   "outputs": [],
   "source": [
    "torch.save(X_phys_sobol, 'X_phys_sobol.pt')"
   ]
  },
  {
   "cell_type": "code",
   "execution_count": 20,
   "id": "faa16e5c",
   "metadata": {},
   "outputs": [],
   "source": [
    "phys_dataset = DomainDataset(n_samples=N_samples, n_dim=3, method='random')"
   ]
  },
  {
   "cell_type": "code",
   "execution_count": null,
   "id": "140b0195",
   "metadata": {},
   "outputs": [],
   "source": [
    "phys_loader = DataLoader(phys_dataset, batch_size=1000, shuffle=False)"
   ]
  },
  {
   "cell_type": "code",
   "execution_count": 22,
   "id": "b4c07f97",
   "metadata": {},
   "outputs": [],
   "source": [
    "X_phys=next( iter( phys_loader ) )"
   ]
  },
  {
   "cell_type": "code",
   "execution_count": 23,
   "id": "35e031cf",
   "metadata": {},
   "outputs": [
    {
     "data": {
      "text/plain": [
       "tensor([[0.3570, 0.8166, 0.8759],\n",
       "        [0.1470, 0.5057, 0.3202],\n",
       "        [0.9244, 0.4566, 0.6789],\n",
       "        ...,\n",
       "        [0.2511, 0.5193, 0.1403],\n",
       "        [0.0603, 0.0612, 0.7316],\n",
       "        [0.6388, 0.6204, 0.8056]])"
      ]
     },
     "execution_count": 23,
     "metadata": {},
     "output_type": "execute_result"
    }
   ],
   "source": [
    "X_phys"
   ]
  },
  {
   "cell_type": "markdown",
   "id": "7f1d2e2f",
   "metadata": {},
   "source": [
    "<h1> Initial conditions"
   ]
  },
  {
   "cell_type": "code",
   "execution_count": 21,
   "id": "35931cea",
   "metadata": {},
   "outputs": [],
   "source": [
    "I_temp=data[0,:,:]\n",
    "I_temp=I_temp.flatten().unsqueeze(-1)\n",
    "\n",
    "y_grid,x_grid=torch.meshgrid(y_norm,x_norm,indexing='ij')\n",
    "\n",
    "I_coordis=torch.stack([y_grid.reshape(-1,1),\n",
    "                       x_grid.reshape(-1,1)],dim=1).squeeze(-1)\n",
    "\n",
    "initial_time=torch.zeros(I_coordis.size(0),1)\n",
    "Initial_position=torch.cat([initial_time,I_coordis],dim=1)"
   ]
  },
  {
   "cell_type": "code",
   "execution_count": 22,
   "id": "2a7af902",
   "metadata": {},
   "outputs": [
    {
     "data": {
      "text/plain": [
       "tensor([[0.0000, 0.0000, 0.0000],\n",
       "        [0.0000, 0.0000, 0.0020],\n",
       "        [0.0000, 0.0000, 0.0039],\n",
       "        ...,\n",
       "        [0.0000, 1.0000, 0.9961],\n",
       "        [0.0000, 1.0000, 0.9980],\n",
       "        [0.0000, 1.0000, 1.0000]])"
      ]
     },
     "execution_count": 22,
     "metadata": {},
     "output_type": "execute_result"
    }
   ],
   "source": [
    "Initial_position"
   ]
  },
  {
   "cell_type": "code",
   "execution_count": 23,
   "id": "857944ab",
   "metadata": {},
   "outputs": [],
   "source": [
    "torch.save(Initial_position,\"X_ic.pt\")"
   ]
  },
  {
   "cell_type": "code",
   "execution_count": 20,
   "id": "80f12af6",
   "metadata": {},
   "outputs": [
    {
     "data": {
      "text/plain": [
       "tensor([[306.0600],\n",
       "        [306.0800],\n",
       "        [306.1000],\n",
       "        ...,\n",
       "        [308.6700],\n",
       "        [308.6500],\n",
       "        [308.6300]])"
      ]
     },
     "execution_count": 20,
     "metadata": {},
     "output_type": "execute_result"
    }
   ],
   "source": [
    "I_temp"
   ]
  },
  {
   "cell_type": "code",
   "execution_count": 24,
   "id": "f7788e4c",
   "metadata": {},
   "outputs": [],
   "source": [
    "torch.save(I_temp,\"Y_ic.pt\")"
   ]
  },
  {
   "cell_type": "markdown",
   "id": "3d54f870",
   "metadata": {},
   "source": [
    "<h1> Boundary conditions"
   ]
  },
  {
   "cell_type": "code",
   "execution_count": 25,
   "id": "c1eeaa26",
   "metadata": {},
   "outputs": [],
   "source": [
    "mask_y = ((data_coordis[:, 1] == 0) | (data_coordis[:, 1] == 1)) & (data_coordis[:,0] != 0)  # y = 0 or 1 and t not 0\n",
    "mask_x = ((data_coordis[:, 2] == 0) | (data_coordis[:, 2] == 1)) & (data_coordis[:,0] != 0)    # x = 0 or 1 and t not 0\n",
    "mask_t = (data_coordis[:, 0] == 1) \n",
    "\n",
    "mask_bc = mask_y | mask_x | mask_t\n",
    "\n",
    "coords_bc = data_coordis[mask_bc]\n",
    "values_bc = y[mask_bc]"
   ]
  },
  {
   "cell_type": "code",
   "execution_count": 26,
   "id": "7370e9db",
   "metadata": {},
   "outputs": [
    {
     "data": {
      "text/plain": [
       "tensor([[0.0033, 0.0000, 0.0000],\n",
       "        [0.0033, 0.0000, 0.0020],\n",
       "        [0.0033, 0.0000, 0.0039],\n",
       "        ...,\n",
       "        [1.0000, 1.0000, 0.9961],\n",
       "        [1.0000, 1.0000, 0.9980],\n",
       "        [1.0000, 1.0000, 1.0000]])"
      ]
     },
     "execution_count": 26,
     "metadata": {},
     "output_type": "execute_result"
    }
   ],
   "source": [
    "coords_bc"
   ]
  },
  {
   "cell_type": "code",
   "execution_count": 28,
   "id": "86924359",
   "metadata": {},
   "outputs": [],
   "source": [
    "torch.save(coords_bc,\"X_bc.pt\")"
   ]
  },
  {
   "cell_type": "code",
   "execution_count": 27,
   "id": "8bcf8089",
   "metadata": {},
   "outputs": [
    {
     "data": {
      "text/plain": [
       "tensor([[304.5700],\n",
       "        [304.5000],\n",
       "        [304.4700],\n",
       "        ...,\n",
       "        [298.1200],\n",
       "        [298.1200],\n",
       "        [298.1100]])"
      ]
     },
     "execution_count": 27,
     "metadata": {},
     "output_type": "execute_result"
    }
   ],
   "source": [
    "values_bc"
   ]
  },
  {
   "cell_type": "code",
   "execution_count": 29,
   "id": "7550d481",
   "metadata": {},
   "outputs": [],
   "source": [
    "torch.save(values_bc,\"Y_bc.pt\")"
   ]
  },
  {
   "cell_type": "code",
   "execution_count": 30,
   "id": "8932b9bf",
   "metadata": {},
   "outputs": [],
   "source": [
    "from networks import FCN"
   ]
  },
  {
   "cell_type": "code",
   "execution_count": 31,
   "id": "075c48cb",
   "metadata": {},
   "outputs": [],
   "source": [
    "Cp=700.0 # [J/(kg*K)] Specific heat of the material\n",
    "q=1600.0 # [kg/m^3] Density of the material\n",
    "layers= np.array([3,50,50,50,50,50,1]) # 8 hidden layers\n",
    "\n",
    "\n",
    "PINN=FCN(layers,q,Cp,t_scale,y_scale,x_scale)"
   ]
  },
  {
   "cell_type": "code",
   "execution_count": 32,
   "id": "bdc0e976",
   "metadata": {},
   "outputs": [
    {
     "data": {
      "text/plain": [
       "[Parameter containing:\n",
       " tensor([[-0.1268, -0.0215, -0.3630,  0.1809,  0.1572, -0.1835,  0.1749, -0.2156,\n",
       "          -0.1156,  0.3575, -0.2970, -0.0568,  0.2174,  0.1005,  0.0644,  0.2189,\n",
       "           0.3860,  0.1048, -0.0399, -0.0647,  0.0111, -0.2123, -0.3158, -0.0150,\n",
       "          -0.3661,  0.3547,  0.0257,  0.0044,  0.2397, -0.0285,  0.2538,  0.1872,\n",
       "          -0.0900, -0.0218,  0.2172, -0.2352, -0.2720, -0.3214,  0.2480,  0.3071,\n",
       "           0.1887,  0.1379, -0.2218,  0.0822,  0.0455, -0.0941,  0.1027, -0.5894,\n",
       "          -0.3509, -0.0133]], requires_grad=True),\n",
       " Parameter containing:\n",
       " tensor([0.], requires_grad=True)]"
      ]
     },
     "execution_count": 32,
     "metadata": {},
     "output_type": "execute_result"
    }
   ],
   "source": [
    "list(PINN.linears[-1].parameters())"
   ]
  },
  {
   "cell_type": "code",
   "execution_count": 47,
   "id": "4c548c3b",
   "metadata": {},
   "outputs": [
    {
     "data": {
      "text/plain": [
       "<generator object Module.parameters at 0x000001DE85A451C0>"
      ]
     },
     "execution_count": 47,
     "metadata": {},
     "output_type": "execute_result"
    }
   ],
   "source": [
    "PINN.linears.parameters()"
   ]
  },
  {
   "cell_type": "code",
   "execution_count": 48,
   "id": "a4031476",
   "metadata": {},
   "outputs": [
    {
     "data": {
      "text/plain": [
       "<generator object Module.parameters at 0x000001DE85A6A880>"
      ]
     },
     "execution_count": 48,
     "metadata": {},
     "output_type": "execute_result"
    }
   ],
   "source": [
    "PINN.parameters()"
   ]
  },
  {
   "cell_type": "code",
   "execution_count": null,
   "id": "58b02825",
   "metadata": {},
   "outputs": [],
   "source": []
  }
 ],
 "metadata": {
  "kernelspec": {
   "display_name": "venv",
   "language": "python",
   "name": "python3"
  },
  "language_info": {
   "codemirror_mode": {
    "name": "ipython",
    "version": 3
   },
   "file_extension": ".py",
   "mimetype": "text/x-python",
   "name": "python",
   "nbconvert_exporter": "python",
   "pygments_lexer": "ipython3",
   "version": "3.11.9"
  }
 },
 "nbformat": 4,
 "nbformat_minor": 5
}
